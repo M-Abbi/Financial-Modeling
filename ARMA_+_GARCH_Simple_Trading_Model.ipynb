{
  "nbformat": 4,
  "nbformat_minor": 0,
  "metadata": {
    "colab": {
      "provenance": [],
      "authorship_tag": "ABX9TyO+KyjbPoZU6NuqpOZASDp5",
      "include_colab_link": true
    },
    "kernelspec": {
      "name": "python3",
      "display_name": "Python 3"
    },
    "language_info": {
      "name": "python"
    }
  },
  "cells": [
    {
      "cell_type": "markdown",
      "metadata": {
        "id": "view-in-github",
        "colab_type": "text"
      },
      "source": [
        "<a href=\"https://colab.research.google.com/github/M-Abbi/Financial-Modeling/blob/main/ARMA_%2B_GARCH_Simple_Trading_Model.ipynb\" target=\"_parent\"><img src=\"https://colab.research.google.com/assets/colab-badge.svg\" alt=\"Open In Colab\"/></a>"
      ]
    },
    {
      "cell_type": "code",
      "source": [
        "import yfinance as yf\n",
        "import pandas as pd\n",
        "import numpy as np\n",
        "from arch import arch_model\n",
        "import matplotlib.pyplot as plt\n",
        "import warnings"
      ],
      "metadata": {
        "id": "4v8fw7EIe-AX"
      },
      "execution_count": 5,
      "outputs": []
    },
    {
      "cell_type": "code",
      "source": [
        "warnings.filterwarnings('ignore') # Suppress convergence warnings for cleaner output"
      ],
      "metadata": {
        "id": "_hKaAzhDfPLp"
      },
      "execution_count": 6,
      "outputs": []
    },
    {
      "cell_type": "code",
      "source": [
        "## Fetching daily adjusted close prices and calculating percentage returns.\n",
        "# --- 1. Data Fetching ---\n",
        "def get_stock_data(ticker, start_date, end_date):\n",
        "    \"\"\"Fetches stock data from Yahoo Finance.\"\"\"\n",
        "    data = yf.download(ticker, start=start_date, end=end_date, progress=False)\n",
        "    data['Returns'] = data['Adj Close'].pct_change() * 100 # Percentage returns\n",
        "    data.dropna(inplace=True)\n",
        "    return data"
      ],
      "metadata": {
        "id": "CFr7hW2TfPT2"
      },
      "execution_count": 7,
      "outputs": []
    },
    {
      "cell_type": "code",
      "source": [
        "# --- 2. GARCH Model and Forecasting ---\n",
        "def garch_forecast(returns_series):\n",
        "    \"\"\"\n",
        "    Fits an ARMA(1,1)-GARCH(1,1) model and forecasts one step ahead.\n",
        "    Returns: (predicted_mean_return, predicted_volatility)\n",
        "    \"\"\"\n",
        "    try:\n",
        "        # p=1, q=1 for GARCH; lags=1 for AR(1) in mean model.\n",
        "        # You can use 'Constant' for mean if you only want GARCH on residuals of constant mean.\n",
        "        # Using AR(1) for a very simple attempt at mean forecasting.\n",
        "        # dist='Normal' assumes normally distributed errors.\n",
        "        model = arch_model(returns_series, vol='Garch', p=1, q=1, mean='ARX', lags=1, dist='Normal')\n",
        "        res = model.fit(disp='off', update_freq=0) # disp='off' to suppress output\n",
        "\n",
        "        # res.forecast(horizon=1) predicts one step ahead\n",
        "        forecast = res.forecast(horizon=1)\n",
        "        # Returns the predicted mean return (predicted_mu) and predicted standard deviation (predicted_vol)\n",
        "        predicted_mu = forecast.mean['h.1'].iloc[-1]\n",
        "        predicted_vol = np.sqrt(forecast.variance['h.1'].iloc[-1])\n",
        "        return predicted_mu, predicted_vol\n",
        "\n",
        "    # Includes a try-except block because GARCH models can sometimes fail to converge, especially with small windows or certain data patterns.\n",
        "\n",
        "    except Exception as e:\n",
        "        # print(f\"Warning: GARCH model fitting failed: {e}\")\n",
        "        return np.nan, np.nan # Return NaN if model fails"
      ],
      "metadata": {
        "id": "SP9fmNdMfPWY"
      },
      "execution_count": 8,
      "outputs": []
    },
    {
      "cell_type": "code",
      "source": [
        "# Iterates through the data, day by day, after an initial window_size period.\n",
        "# --- 3. Backtesting Engine ---\n",
        "def backtest_strategy(data, window_size=100, entry_threshold_std=0.5, exit_threshold_std=0.0):\n",
        "    \"\"\"\n",
        "    Performs a backtest of the GARCH-based trading strategy.\n",
        "    entry_threshold_std: How many std devs above zero the mean forecast must be to buy.\n",
        "    exit_threshold_std: If mean forecast drops below this * std dev, sell.\n",
        "    \"\"\"\n",
        "    signals = pd.DataFrame(index=data.index)\n",
        "    signals['Price'] = data['Adj Close']\n",
        "    signals['Returns'] = data['Returns']\n",
        "    signals['Signal'] = 0 # 0: Hold, 1: Buy, -1: Sell\n",
        "    signals['Position'] = 0 # 0: No position, 1: Long\n",
        "    signals['Predicted_Mean'] = np.nan\n",
        "    signals['Predicted_Vol'] = np.nan\n",
        "\n",
        "    cash = 100000  # Initial cash\n",
        "    portfolio_value = [cash]\n",
        "    position_active = False\n",
        "    entry_price = 0\n",
        "    trades_log = [] # To store trade details\n",
        "\n",
        "    for i in range(window_size, len(data)):\n",
        "        current_date = data.index[i]\n",
        "        current_price = data['Adj Close'].iloc[i]\n",
        "\n",
        "        # Get data for GARCH model\n",
        "        historical_returns = data['Returns'].iloc[i-window_size:i]\n",
        "\n",
        "        if len(historical_returns) < 20: # Need enough data points\n",
        "            signals['Position'].iloc[i] = signals['Position'].iloc[i-1]\n",
        "            portfolio_value.append(portfolio_value[-1]) # No change if no position\n",
        "            continue\n",
        "\n",
        "        pred_mu, pred_vol = garch_forecast(historical_returns)\n",
        "        signals['Predicted_Mean'].iloc[i] = pred_mu\n",
        "        signals['Predicted_Vol'].iloc[i] = pred_vol\n",
        "\n",
        "        # --- Trading Logic ---\n",
        "        if not position_active:\n",
        "            # Buy condition - If not in a position and pred_mu > entry_threshold_std * pred_vol, a BUY signal is generated.\n",
        "            if not np.isnan(pred_mu) and not np.isnan(pred_vol) and pred_vol > 0: # Check for valid forecasts\n",
        "                if pred_mu > entry_threshold_std * pred_vol:\n",
        "                    signals['Signal'].iloc[i] = 1\n",
        "                    signals['Position'].iloc[i] = 1\n",
        "                    position_active = True\n",
        "                    entry_price = current_price\n",
        "                    # Assuming we buy one share for simplicity, adjust cash\n",
        "                    # In a real system, you'd calculate shares based on cash and price\n",
        "                    trades_log.append({'Date': current_date, 'Type': 'BUY', 'Price': current_price, 'Pred_Mu': pred_mu, 'Pred_Vol': pred_vol})\n",
        "                    # print(f\"{current_date}: BUY signal at {current_price:.2f} (Pred Mu: {pred_mu:.2f}, Pred Vol: {pred_vol:.2f})\")\n",
        "        else: # Position is active, look for sell signal\n",
        "            signals['Position'].iloc[i] = 1 # Carry forward position\n",
        "\n",
        "            # Sell condition - If in a position and pred_mu < exit_threshold_std * pred_vol, a SELL signal is generated.\n",
        "            # Example: Sell if predicted mean return turns negative or small positive\n",
        "            if not np.isnan(pred_mu) and not np.isnan(pred_vol) and pred_vol > 0:\n",
        "                if pred_mu < exit_threshold_std * pred_vol:\n",
        "                    signals['Signal'].iloc[i] = -1\n",
        "                    signals['Position'].iloc[i] = 0\n",
        "                    position_active = False\n",
        "                    exit_price = current_price\n",
        "                    trade_return = (exit_price - entry_price) / entry_price\n",
        "                    trades_log.append({'Date': current_date, 'Type': 'SELL', 'Price': current_price, 'Return': trade_return, 'Pred_Mu': pred_mu, 'Pred_Vol': pred_vol})\n",
        "                    # print(f\"{current_date}: SELL signal at {exit_price:.2f} (Return: {trade_return*100:.2f}%)\")\n",
        "                    entry_price = 0 # Reset entry price\n",
        "\n",
        "        # Update portfolio value (simplified: assumes holding 1 share or cash)\n",
        "        # For a more robust backtest, you'd track shares and cash properly.\n",
        "        # This part is a bit wavy for simplicity as it doesn't track shares properly\n",
        "        # A proper portfolio valuation:\n",
        "        if i > 0: # Ensure we have a previous value\n",
        "            daily_return_from_asset = 0\n",
        "            if signals['Position'].iloc[i-1] == 1: # If we held the asset yesterday\n",
        "                daily_return_from_asset = data['Returns'].iloc[i]/100 # Use actual daily return\n",
        "\n",
        "            # This is still simplified as it assumes full investment or full cash\n",
        "            # A better way to be implemented: track cash and number of shares\n",
        "            if signals['Position'].iloc[i-1] == 1:\n",
        "                 portfolio_value.append(portfolio_value[-1] * (1 + daily_return_from_asset))\n",
        "            else:\n",
        "                 portfolio_value.append(portfolio_value[-1]) # Just cash, no change\n",
        "\n",
        "    # Ensure portfolio_value has the same length as signals for plotting\n",
        "    # Pad beginning of portfolio_value if necessary (for window_size period)\n",
        "    initial_portfolio_values = [cash] * window_size\n",
        "    full_portfolio_value = initial_portfolio_values + portfolio_value[1:] # portfolio_value[0] is initial cash\n",
        "\n",
        "    # Make sure it aligns with signals index\n",
        "    if len(full_portfolio_value) > len(signals):\n",
        "        full_portfolio_value = full_portfolio_value[:len(signals)]\n",
        "    elif len(full_portfolio_value) < len(signals):\n",
        "        full_portfolio_value.extend([full_portfolio_value[-1]]*(len(signals) - len(full_portfolio_value)))\n",
        "\n",
        "    signals['Portfolio_Value'] = pd.Series(full_portfolio_value, index=signals.index)\n",
        "\n",
        "    return signals, pd.DataFrame(trades_log)\n"
      ],
      "metadata": {
        "id": "ZZEI0W3VfPeY"
      },
      "execution_count": 9,
      "outputs": []
    },
    {
      "cell_type": "code",
      "source": [
        "# Calculates Total Return, Annualized Sharpe Ratio (assuming 252 trading days), and Max Drawdown for the strategy.\n",
        "\n",
        "# --- 4. Performance Metrics ---\n",
        "def calculate_performance(signals_df, initial_capital):\n",
        "    \"\"\"Calculates and prints performance metrics.\"\"\"\n",
        "    portfolio_value = signals_df['Portfolio_Value']\n",
        "\n",
        "    if portfolio_value.empty or portfolio_value.iloc[-1] == 0:\n",
        "        print(\"Portfolio value is zero or empty, cannot calculate metrics.\")\n",
        "        return\n",
        "\n",
        "    total_return = (portfolio_value.iloc[-1] - initial_capital) / initial_capital\n",
        "\n",
        "    # Daily returns of the strategy\n",
        "    strategy_returns = portfolio_value.pct_change().dropna()\n",
        "\n",
        "    if not strategy_returns.empty:\n",
        "        sharpe_ratio_annualized = (np.mean(strategy_returns) / np.std(strategy_returns)) * np.sqrt(252) if np.std(strategy_returns) != 0 else 0\n",
        "    else:\n",
        "        sharpe_ratio_annualized = 0\n",
        "\n",
        "    # Max Drawdown\n",
        "    cumulative_returns = (1 + strategy_returns).cumprod()\n",
        "    peak = cumulative_returns.cummax()\n",
        "    drawdown = (cumulative_returns - peak) / peak\n",
        "    max_drawdown = drawdown.min()\n",
        "\n",
        "    print(f\"\\n--- Strategy Performance ---\")\n",
        "    print(f\"Initial Capital: ${initial_capital:,.2f}\")\n",
        "    print(f\"Final Portfolio Value: ${portfolio_value.iloc[-1]:,.2f}\")\n",
        "    print(f\"Total Return: {total_return*100:.2f}%\")\n",
        "    print(f\"Annualized Sharpe Ratio: {sharpe_ratio_annualized:.2f}\")\n",
        "    print(f\"Max Drawdown: {max_drawdown*100:.2f}%\")\n",
        "\n",
        "    # Buy and Hold performance - shows Buy & Hold return for comparison.\n",
        "    buy_hold_return = (signals_df['Price'].iloc[-1] - signals_df['Price'].iloc[0]) / signals_df['Price'].iloc[0]\n",
        "    print(f\"\\n--- Buy & Hold Performance ---\")\n",
        "    print(f\"Buy & Hold Total Return: {buy_hold_return*100:.2f}%\")"
      ],
      "metadata": {
        "id": "46u07d4hfPgq"
      },
      "execution_count": 10,
      "outputs": []
    },
    {
      "cell_type": "code",
      "source": [
        "# --- 5. Plotting ---\n",
        "def plot_results(signals_df, ticker):\n",
        "    \"\"\"Plots the price, signals, and portfolio value.\"\"\"\n",
        "    fig, ax1 = plt.subplots(figsize=(14, 7))\n",
        "\n",
        "    # Price\n",
        "    color = 'tab:blue'\n",
        "    ax1.set_xlabel('Date')\n",
        "    ax1.set_ylabel('Price', color=color)\n",
        "    ax1.plot(signals_df.index, signals_df['Price'], color=color, label='Stock Price')\n",
        "    ax1.tick_params(axis='y', labelcolor=color)\n",
        "\n",
        "    # Buy/Sell signals on price chart\n",
        "    ax1.plot(signals_df[signals_df['Signal'] == 1].index,\n",
        "             signals_df['Price'][signals_df['Signal'] == 1],\n",
        "             '^', markersize=10, color='g', lw=0, label='Buy Signal')\n",
        "    ax1.plot(signals_df[signals_df['Signal'] == -1].index,\n",
        "             signals_df['Price'][signals_df['Signal'] == -1],\n",
        "             'v', markersize=10, color='r', lw=0, label='Sell Signal')\n",
        "    ax1.legend(loc='upper left')\n",
        "    ax1.set_title(f'{ticker} Trading Strategy Backtest')\n",
        "\n",
        "    # Portfolio Value on a second y-axis\n",
        "    ax2 = ax1.twinx()\n",
        "    color = 'tab:red'\n",
        "    ax2.set_ylabel('Portfolio Value', color=color)\n",
        "    ax2.plot(signals_df.index, signals_df['Portfolio_Value'], color=color, linestyle='--', label='Strategy Value')\n",
        "\n",
        "    # Buy & Hold Equity Curve\n",
        "    initial_capital = signals_df['Portfolio_Value'].iloc[0]\n",
        "    buy_hold_equity = initial_capital * (1 + signals_df['Price'].pct_change().fillna(0).cumsum())\n",
        "    ax2.plot(signals_df.index, buy_hold_equity, color='tab:purple', linestyle=':', label='Buy & Hold Value')\n",
        "\n",
        "    ax2.tick_params(axis='y', labelcolor=color)\n",
        "    ax2.legend(loc='center left')\n",
        "\n",
        "    fig.tight_layout()\n",
        "    plt.show()\n",
        "\n",
        "    # Plot predicted mean and volatility for insight (optional)\n",
        "    fig, (ax_mu, ax_vol) = plt.subplots(2, 1, figsize=(14, 8), sharex=True)\n",
        "    ax_mu.plot(signals_df.index, signals_df['Predicted_Mean'], label='Predicted Mean Return', color='orange')\n",
        "    ax_mu.axhline(0, color='gray', linestyle='--')\n",
        "    ax_mu.set_ylabel('Predicted Mean (%)')\n",
        "    ax_mu.legend()\n",
        "    ax_mu.set_title('ARMA-GARCH Forecasts')\n",
        "\n",
        "    ax_vol.plot(signals_df.index, signals_df['Predicted_Vol'], label='Predicted Volatility (Std Dev)', color='green')\n",
        "    ax_vol.set_ylabel('Predicted Volatility (%)')\n",
        "    ax_vol.legend()\n",
        "    plt.show()"
      ],
      "metadata": {
        "id": "RbXN5O2PfhdA"
      },
      "execution_count": 14,
      "outputs": []
    },
    {
      "cell_type": "code",
      "source": [
        "# --- Main Execution ---\n",
        "if __name__ == \"__main__\":\n",
        "    TICKER = 'RACE'  # Example: Apple\n",
        "    START_DATE = '2021-01-01'\n",
        "    END_DATE = '2025-05-01'\n",
        "    ROLLING_WINDOW = 100       # Days for GARCH model fitting\n",
        "    ENTRY_STD_THRESHOLD = 0.5 # Buy if pred_mu > 0.5 * pred_vol\n",
        "    EXIT_STD_THRESHOLD = 0.0  # Sell if pred_mu < 0.0 * pred_vol (i.e., turns negative)\n",
        "    INITIAL_CAPITAL = 100000\n",
        "\n",
        "    stock_data = get_stock_data(TICKER, START_DATE, END_DATE)\n",
        "\n",
        "    if not stock_data.empty:\n",
        "        print(f\"Running backtest for {TICKER}...\")\n",
        "        backtest_signals, trades = backtest_strategy(stock_data,\n",
        "                                                     window_size=ROLLING_WINDOW,\n",
        "                                                     entry_threshold_std=ENTRY_STD_THRESHOLD,\n",
        "                                                     exit_threshold_std=EXIT_STD_THRESHOLD)\n",
        "\n",
        "        print(\"\\n--- Trades Log ---\")\n",
        "        if not trades.empty:\n",
        "            print(trades.to_string())\n",
        "            # Calculate trade-specific metrics\n",
        "            winning_trades = trades[trades['Return'] > 0] if 'Return' in trades.columns else pd.DataFrame()\n",
        "            losing_trades = trades[trades['Return'] <= 0] if 'Return' in trades.columns else pd.DataFrame()\n",
        "            num_trades = len(trades[trades['Type'] == 'SELL']) # Count closed trades\n",
        "\n",
        "            if num_trades > 0:\n",
        "                win_rate = len(winning_trades) / num_trades if num_trades > 0 else 0\n",
        "                avg_win_return = winning_trades['Return'].mean() if not winning_trades.empty else 0\n",
        "                avg_loss_return = losing_trades['Return'].mean() if not losing_trades.empty else 0\n",
        "                print(f\"\\nNumber of Trades (closed): {num_trades}\")\n",
        "                print(f\"Win Rate: {win_rate*100:.2f}%\")\n",
        "                print(f\"Average Win Return: {avg_win_return*100:.2f}%\")\n",
        "                print(f\"Average Loss Return: {avg_loss_return*100:.2f}%\")\n",
        "\n",
        "        else:\n",
        "            print(\"No trades were executed.\")\n",
        "\n",
        "        calculate_performance(backtest_signals, initial_capital=INITIAL_CAPITAL) # Use initial capital for calc\n",
        "        plot_results(backtest_signals, TICKER)\n",
        "    else:\n",
        "        print(f\"No data found for {TICKER} in the given date range.\")"
      ],
      "metadata": {
        "colab": {
          "base_uri": "https://localhost:8080/"
        },
        "id": "iVa7yv7Xfhfe",
        "outputId": "432ae08f-38ff-428d-a546-9e12faaa51bf"
      },
      "execution_count": 16,
      "outputs": [
        {
          "output_type": "stream",
          "name": "stderr",
          "text": [
            "ERROR:yfinance:\n",
            "1 Failed download:\n",
            "ERROR:yfinance:['RACE']: YFRateLimitError('Too Many Requests. Rate limited. Try after a while.')\n"
          ]
        },
        {
          "output_type": "stream",
          "name": "stdout",
          "text": [
            "No data found for RACE in the given date range.\n"
          ]
        }
      ]
    },
    {
      "cell_type": "code",
      "source": [],
      "metadata": {
        "id": "pfKvg4UGfhnJ"
      },
      "execution_count": null,
      "outputs": []
    }
  ]
}