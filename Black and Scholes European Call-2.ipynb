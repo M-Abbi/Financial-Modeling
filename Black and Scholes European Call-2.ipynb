{
 "cells": [
  {
   "cell_type": "code",
   "execution_count": 1,
   "id": "da3e0be6-b62f-4425-abd1-5202b5d9f14b",
   "metadata": {},
   "outputs": [],
   "source": [
    "import numpy as np\n",
    "from scipy.stats import norm"
   ]
  },
  {
   "cell_type": "markdown",
   "id": "e5414382-486f-42c0-8c99-cd303f41918d",
   "metadata": {},
   "source": [
    "### Black-Scholes Formula\n",
    "\n",
    "The **Black-Scholes formula** for a call option price is given by:\n",
    "\n",
    "$$\n",
    "C = S_0 \\cdot N(d_1) - K \\cdot e^{-rT} \\cdot N(d_2)\n",
    "$$\n",
    "\n",
    "where:\n",
    "\n",
    "- \\( C \\) is the call option price\n",
    "- \\( S_0 \\) is the current stock price\n",
    "- \\( K \\) is the strike price\n",
    "- \\( T \\) is the time to expiration (in years)\n",
    "- \\( r \\) is the risk-free rate\n",
    "- \\( \\sigma \\) is the volatility\n",
    "- \\( N(\\cdot) \\) is the cumulative normal distribution function\n",
    "- \\( d_1 \\) and \\( d_2 \\) are given by:\n",
    "\n",
    "$$\n",
    "d_1 = \\frac{\\ln(S_0 / K) + (r + 0.5 \\sigma^2) T}{\\sigma \\sqrt{T}}\n",
    "$$\n",
    "\n",
    "$$\n",
    "d_2 = d_1 - \\sigma \\sqrt{T}\n",
    "$$"
   ]
  },
  {
   "cell_type": "code",
   "execution_count": 2,
   "id": "39c01ec1-ee08-4d95-91d4-6750137ee1c3",
   "metadata": {},
   "outputs": [],
   "source": [
    "# Black-Scholes formula for call option price\n",
    "def black_scholes_call(S0, K, T, r, sigma):\n",
    "\n",
    "    # Calculate d1 and d2\n",
    "    d1 = (np.log(S0 / K) + (r + 0.5 * sigma ** 2) * T) / (sigma * np.sqrt(T))\n",
    "    d2 = d1 - sigma * np.sqrt(T)\n",
    "\n",
    "    # Calculate the option price using the Black-Scholes formula\n",
    "    call_price = S0 * norm.cdf(d1) - K * np.exp(-r * T) * norm.cdf(d2)\n",
    "    \n",
    "    return call_price"
   ]
  },
  {
   "cell_type": "code",
   "execution_count": 3,
   "id": "b46983de-0d25-4f42-8274-73a8e218aed6",
   "metadata": {},
   "outputs": [],
   "source": [
    "# Input your parameters here:\n",
    "S0 = 100  # Current stock price\n",
    "K = 100   # Strike price\n",
    "T = 1     # Time to maturity in years (1 year)\n",
    "r = 0.05  # Risk-free interest rate (5%)\n",
    "sigma = 0.2  # Volatility (20%)\n"
   ]
  },
  {
   "cell_type": "code",
   "execution_count": 4,
   "id": "74b2970b-a587-4672-b835-e52d1ad7f7ce",
   "metadata": {},
   "outputs": [],
   "source": [
    "# Calculate the call option price\n",
    "call_option_price = black_scholes_call(S0, K, T, r, sigma)"
   ]
  },
  {
   "cell_type": "code",
   "execution_count": 5,
   "id": "6025c95f-67b1-475a-a4b0-2e1791e05243",
   "metadata": {},
   "outputs": [
    {
     "name": "stdout",
     "output_type": "stream",
     "text": [
      "The price of the call option is: $10.45\n"
     ]
    }
   ],
   "source": [
    "# Output the result\n",
    "print(f\"The price of the call option is: ${call_option_price:.2f}\")"
   ]
  },
  {
   "cell_type": "code",
   "execution_count": null,
   "id": "580cfdd8-6a88-4d34-943e-4aa07de1e9d2",
   "metadata": {},
   "outputs": [],
   "source": []
  },
  {
   "cell_type": "code",
   "execution_count": null,
   "id": "a44effee-7467-4d79-b6f6-268d42871701",
   "metadata": {},
   "outputs": [],
   "source": []
  },
  {
   "cell_type": "code",
   "execution_count": null,
   "id": "2807d0a4-3ae0-4f2b-b1be-e7cb9324e6c2",
   "metadata": {},
   "outputs": [],
   "source": []
  },
  {
   "cell_type": "code",
   "execution_count": null,
   "id": "2524559b-142b-422f-a34c-88ee8f022903",
   "metadata": {},
   "outputs": [],
   "source": []
  }
 ],
 "metadata": {
  "kernelspec": {
   "display_name": "Python 3 (ipykernel)",
   "language": "python",
   "name": "python3"
  },
  "language_info": {
   "codemirror_mode": {
    "name": "ipython",
    "version": 3
   },
   "file_extension": ".py",
   "mimetype": "text/x-python",
   "name": "python",
   "nbconvert_exporter": "python",
   "pygments_lexer": "ipython3",
   "version": "3.12.3"
  }
 },
 "nbformat": 4,
 "nbformat_minor": 5
}
