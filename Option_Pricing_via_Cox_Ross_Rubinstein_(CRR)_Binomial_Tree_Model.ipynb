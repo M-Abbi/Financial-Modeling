{
  "nbformat": 4,
  "nbformat_minor": 0,
  "metadata": {
    "colab": {
      "provenance": [],
      "authorship_tag": "ABX9TyMiHiT1jJx+EsyhBQi4Cg8S",
      "include_colab_link": true
    },
    "kernelspec": {
      "name": "python3",
      "display_name": "Python 3"
    },
    "language_info": {
      "name": "python"
    }
  },
  "cells": [
    {
      "cell_type": "markdown",
      "metadata": {
        "id": "view-in-github",
        "colab_type": "text"
      },
      "source": [
        "<a href=\"https://colab.research.google.com/github/M-Abbi/Financial-Modeling/blob/main/Option_Pricing_via_Cox_Ross_Rubinstein_(CRR)_Binomial_Tree_Model.ipynb\" target=\"_parent\"><img src=\"https://colab.research.google.com/assets/colab-badge.svg\" alt=\"Open In Colab\"/></a>"
      ]
    },
    {
      "cell_type": "markdown",
      "source": [
        "# **Binomial Model Fundamentals:**\n",
        "\n",
        "**Discrete Time Steps:** The model divides the time to expiration into discrete\n",
        "steps.\n",
        "\n",
        "**Up/Down Movements:** At each step, the underlying asset price can move up (u) or down (d).\n",
        "\n",
        "**Risk-Neutral Probability** (q): The probability of an up-move in a risk-neutral world.\n",
        "\n",
        "**No Arbitrage**: d < (1 + r_dt) < u, where r_dt is the risk-free rate per step.\n",
        "\n",
        "**Payoff at Expiration**: The option's value at the final nodes is known (e.g., max(S_T - K, 0) for a call).\n",
        "\n",
        "**Backward Induction**: Work backward from expiration to the present to find the option's current price. At each node, the option value is the discounted expected value of the option from the next step, under risk-neutral probabilities.\n",
        "\n",
        "**Early Exercise** (for American options): At each node before expiration, compare the discounted expected future value with the intrinsic value if exercised immediately. The option value is the maximum of these two.\n",
        "\n",
        "\n",
        "**Key Parameters**: Please identify the inputs needed:\n",
        "\n",
        "\n",
        "*   S0: Current stock price\n",
        "*   K: Strike price\n",
        "*   T: Time to expiration (in years)\n",
        "*   r: Risk-free interest rate (annualized)\n",
        "*   sigma: Volatility (annualized standard deviation of log returns)\n",
        "*   N: Number of time steps in the tree\n",
        "*   option_type: 'call' or 'put'\n",
        "*   exercise_type: 'european' or 'american' (important for backward induction)"
      ],
      "metadata": {
        "id": "xkUsFoaPoJMS"
      }
    },
    {
      "cell_type": "code",
      "execution_count": 2,
      "metadata": {
        "id": "zdx4YF2InqW0"
      },
      "outputs": [],
      "source": [
        "import numpy as np\n",
        "\n",
        "def binomial_option_pricer(S0, K, T, r, sigma, N, option_type='call', exercise_type='european'):\n",
        "    \"\"\"\n",
        "    Prices an option using the Cox-Ross-Rubinstein (CRR) Binomial Tree Model.\n",
        "\n",
        "    Parameters:\n",
        "    S0 (float): Current stock price\n",
        "    K (float): Strike price\n",
        "    T (float): Time to expiration (in years)\n",
        "    r (float): Risk-free interest rate (annualized, e.g., 0.05 for 5%)\n",
        "    sigma (float): Volatility of the underlying stock (annualized, e.g., 0.2 for 20%)\n",
        "    N (int): Number of time steps in the binomial tree\n",
        "    option_type (str): 'call' or 'put'\n",
        "    exercise_type (str): 'european' or 'american'\n",
        "\n",
        "    Returns:\n",
        "    float: Estimated option price\n",
        "    \"\"\"\n",
        "\n",
        "    # --- 1. Calculate intermediate parameters ---\n",
        "    dt = T / N  # Time step duration\n",
        "    u = np.exp(sigma * np.sqrt(dt))  # Up-factor\n",
        "    d = 1 / u  # Down-factor (ensures recombinant tree)\n",
        "    # d = np.exp(-sigma * np.sqrt(dt)) # Alternative for d\n",
        "\n",
        "    # Risk-neutral probability of an up-move\n",
        "    q = (np.exp(r * dt) - d) / (u - d)\n",
        "    # Discount factor for one time step\n",
        "    discount_factor = np.exp(-r * dt)\n",
        "\n",
        "    # --- 2. Initialize asset prices at each node (forward pass) ---\n",
        "    # Stock price tree: stock_prices[i, j] is price at time step i, after j up-moves\n",
        "    stock_prices = np.zeros((N + 1, N + 1))\n",
        "    for i in range(N + 1):  # Time steps from 0 to N\n",
        "        for j in range(i + 1):  # Number of up-moves (0 to i)\n",
        "            stock_prices[i, j] = S0 * (u**j) * (d**(i - j))\n",
        "\n",
        "    # --- 3. Initialize option values at expiration (last time step) ---\n",
        "    # Option value tree: option_values[i, j] is option value at time step i, after j up-moves\n",
        "    option_values = np.zeros((N + 1, N + 1))\n",
        "\n",
        "    if option_type == 'call':\n",
        "        option_values[N, :] = np.maximum(0, stock_prices[N, :] - K)\n",
        "    elif option_type == 'put':\n",
        "        option_values[N, :] = np.maximum(0, K - stock_prices[N, :])\n",
        "    else:\n",
        "        raise ValueError(\"option_type must be 'call' or 'put'\")\n",
        "\n",
        "    # --- 4. Backward induction to calculate option values at earlier nodes ---\n",
        "    for i in range(N - 1, -1, -1):  # Iterate backwards from N-1 to 0\n",
        "        for j in range(i + 1):  # Number of up-moves (0 to i)\n",
        "            # Expected option value in the next period\n",
        "            expected_value_future = q * option_values[i + 1, j + 1] + \\\n",
        "                                    (1 - q) * option_values[i + 1, j]\n",
        "\n",
        "            # Discounted expected value (value if held)\n",
        "            value_if_held = discount_factor * expected_value_future\n",
        "\n",
        "            if exercise_type == 'european':\n",
        "                option_values[i, j] = value_if_held\n",
        "            elif exercise_type == 'american':\n",
        "                # Intrinsic value if exercised at current node (i, j)\n",
        "                if option_type == 'call':\n",
        "                    intrinsic_value_now = np.maximum(0, stock_prices[i, j] - K)\n",
        "                else: # put\n",
        "                    intrinsic_value_now = np.maximum(0, K - stock_prices[i, j])\n",
        "                option_values[i, j] = np.maximum(value_if_held, intrinsic_value_now)\n",
        "            else:\n",
        "                raise ValueError(\"exercise_type must be 'european' or 'american'\")\n",
        "\n",
        "    return option_values[0, 0]\n",
        "\n",
        "\n",
        "\n",
        "    european_put_itmp = binomial_option_pricer(S0_itmp, K_itmp, T_itmp, r_itmp, sigma_itmp, N_steps_itmp,\n",
        "                                               option_type='put', exercise_type='european')\n",
        "    print(f\"European Put (ITM) Option Price (for comparison): {european_put_itmp:.4f}\")\n",
        "    # For puts, American can be > European due to early exercise premium"
      ]
    },
    {
      "cell_type": "code",
      "source": [
        "# --- Example Usage ---\n",
        "if __name__ == \"__main__\":\n",
        "    # Market and option parameters\n",
        "    S0_val = 100      # Current stock price\n",
        "    K_val = 100       # Strike price\n",
        "    T_val = 1         # Time to expiration (1 year)\n",
        "    r_val = 0.05      # Risk-free rate (5%)\n",
        "    sigma_val = 0.2   # Volatility (20%)\n",
        "    N_steps = 100     # Number of steps in the binomial tree (more steps = more accuracy)\n",
        "\n",
        "    # Price a European Call\n",
        "    european_call_price = binomial_option_pricer(S0_val, K_val, T_val, r_val, sigma_val, N_steps,\n",
        "                                                 option_type='call', exercise_type='european')\n",
        "    print(f\"European Call Option Price: {european_call_price:.4f}\")\n",
        "\n",
        "    # Price a European Put\n",
        "    european_put_price = binomial_option_pricer(S0_val, K_val, T_val, r_val, sigma_val, N_steps,\n",
        "                                                option_type='put', exercise_type='european')\n",
        "    print(f\"European Put Option Price: {european_put_price:.4f}\")\n",
        "\n",
        "    # Price an American Call\n",
        "    # Note: For non-dividend paying stocks, American call price = European call price\n",
        "    american_call_price = binomial_option_pricer(S0_val, K_val, T_val, r_val, sigma_val, N_steps,\n",
        "                                                 option_type='call', exercise_type='american')\n",
        "    print(f\"American Call Option Price: {american_call_price:.4f}\")\n",
        "\n",
        "    # Price an American Put\n",
        "    american_put_price = binomial_option_pricer(S0_val, K_val, T_val, r_val, sigma_val, N_steps,\n",
        "                                                option_type='put', exercise_type='american')\n",
        "    print(f\"American Put Option Price: {american_put_price:.4f}\")\n",
        "\n",
        "    # --- Example with different parameters (e.g., In-the-money Put) ---\n",
        "    print(\"\\n--- In-the-money American Put Example ---\")\n",
        "    S0_itmp = 90       # Current stock price (lower than strike)\n",
        "    K_itmp = 100       # Strike price\n",
        "    T_itmp = 0.5       # Time to expiration (6 months)\n",
        "    r_itmp = 0.02      # Risk-free rate (2%)\n",
        "    sigma_itmp = 0.3   # Volatility (30%)\n",
        "    N_steps_itmp = 150\n",
        "\n",
        "    american_put_itmp = binomial_option_pricer(S0_itmp, K_itmp, T_itmp, r_itmp, sigma_itmp, N_steps_itmp,\n",
        "                                               option_type='put', exercise_type='american')\n",
        "    print(f\"American Put (ITM) Option Price: {american_put_itmp:.4f}\")"
      ],
      "metadata": {
        "colab": {
          "base_uri": "https://localhost:8080/"
        },
        "id": "AUEVifPZnsHg",
        "outputId": "3b31d705-06c1-46a9-c8cc-403a0e6af85a"
      },
      "execution_count": 3,
      "outputs": [
        {
          "output_type": "stream",
          "name": "stdout",
          "text": [
            "European Call Option Price: 10.4306\n",
            "European Put Option Price: 5.5536\n",
            "American Call Option Price: 10.4306\n",
            "American Put Option Price: 6.0824\n",
            "\n",
            "--- In-the-money American Put Example ---\n",
            "American Put (ITM) Option Price: 13.4292\n"
          ]
        }
      ]
    },
    {
      "cell_type": "code",
      "source": [],
      "metadata": {
        "id": "zIk8BlD1rH8o"
      },
      "execution_count": null,
      "outputs": []
    }
  ]
}